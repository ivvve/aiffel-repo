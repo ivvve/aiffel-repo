{
 "cells": [
  {
   "cell_type": "markdown",
   "id": "fe785885",
   "metadata": {},
   "source": [
    "### Changes from Transformer\n",
    "- Positional Encoding -> Positional Embedding\n",
    "- 인코더 관련 모듈 삭제\n"
   ]
  },
  {
   "cell_type": "code",
   "execution_count": 367,
   "id": "76ed6b36",
   "metadata": {},
   "outputs": [],
   "source": [
    "import tensorflow as tf\n",
    "from tensorflow import keras\n",
    "import numpy as np"
   ]
  },
  {
   "cell_type": "markdown",
   "id": "ada0260b",
   "metadata": {},
   "source": [
    "## Attention"
   ]
  },
  {
   "cell_type": "markdown",
   "id": "f9d1bbee",
   "metadata": {},
   "source": [
    "### Scaled dot-product Attention"
   ]
  },
  {
   "cell_type": "code",
   "execution_count": 368,
   "id": "f8b489af",
   "metadata": {},
   "outputs": [],
   "source": [
    "# 스케일드 닷 프로덕트 어텐션 함수\n",
    "def scaled_dot_product_attention(query, key, value, mask):\n",
    "    # 어텐션 가중치는 Q와 K의 닷 프로덕트\n",
    "    matmul_qk = tf.matmul(query, key, transpose_b=True)\n",
    "\n",
    "    # 가중치를 정규화\n",
    "    depth = tf.cast(tf.shape(key)[-1], tf.float32)\n",
    "    logits = matmul_qk / tf.math.sqrt(depth)\n",
    "\n",
    "    # 패딩에 마스크 추가\n",
    "    if mask is not None:\n",
    "        logits += (mask * -1e9)\n",
    "\n",
    "    # softmax적용\n",
    "    attention_weights = tf.nn.softmax(logits, axis=-1)\n",
    "\n",
    "    # 최종 어텐션은 가중치와 V의 닷 프로덕트\n",
    "    output = tf.matmul(attention_weights, value)\n",
    "    return output\n"
   ]
  },
  {
   "cell_type": "markdown",
   "id": "0bc55985",
   "metadata": {},
   "source": [
    "### Multi-head Attention"
   ]
  },
  {
   "cell_type": "code",
   "execution_count": 369,
   "id": "958e138f",
   "metadata": {},
   "outputs": [],
   "source": [
    "class MultiHeadAttention(tf.keras.layers.Layer):\n",
    "    def __init__(self, d_model, num_heads, name=\"multi_head_attention\"):\n",
    "        super(MultiHeadAttention, self).__init__(name=name)\n",
    "        self.num_heads = num_heads\n",
    "        self.d_model = d_model\n",
    "\n",
    "        assert d_model % self.num_heads == 0\n",
    "\n",
    "        self.depth = d_model // self.num_heads\n",
    "\n",
    "        self.query_dense = tf.keras.layers.Dense(units=d_model)\n",
    "        self.key_dense = tf.keras.layers.Dense(units=d_model)\n",
    "        self.value_dense = tf.keras.layers.Dense(units=d_model)\n",
    "\n",
    "        self.dense = tf.keras.layers.Dense(units=d_model)\n",
    "\n",
    "    def call(self, inputs):\n",
    "        query, key, value, mask = inputs['query'], inputs['key'], inputs['value'], inputs['mask']\n",
    "        batch_size = tf.shape(query)[0]\n",
    "\n",
    "        # Q, K, V에 각각 Dense를 적용합니다\n",
    "        query = self.query_dense(query)\n",
    "        key = self.key_dense(key)\n",
    "        value = self.value_dense(value)\n",
    "\n",
    "        # 병렬 연산을 위한 머리를 여러 개 만듭니다\n",
    "        query = self.split_heads(query, batch_size)\n",
    "        key = self.split_heads(key, batch_size)\n",
    "        value = self.split_heads(value, batch_size)\n",
    "\n",
    "        # 스케일드 닷 프로덕트 어텐션 함수\n",
    "        scaled_attention = scaled_dot_product_attention(query, key, value, mask)\n",
    "        scaled_attention = tf.transpose(scaled_attention, perm=[0, 2, 1, 3])\n",
    "\n",
    "        # 어텐션 연산 후에 각 결과를 다시 연결(concatenate)합니다\n",
    "        concat_attention = tf.reshape(scaled_attention,\n",
    "                                      (batch_size, -1, self.d_model))\n",
    "\n",
    "        # 최종 결과에도 Dense를 한 번 더 적용합니다\n",
    "        outputs = self.dense(concat_attention)\n",
    "        return outputs\n",
    "    \n",
    "    def split_heads(self, inputs, batch_size):\n",
    "        inputs = tf.reshape(inputs, shape=(batch_size, -1, self.num_heads, self.depth))\n",
    "        return tf.transpose(inputs, perm=[0, 2, 1, 3])"
   ]
  },
  {
   "cell_type": "markdown",
   "id": "6435aee5",
   "metadata": {},
   "source": [
    "## Masking"
   ]
  },
  {
   "cell_type": "code",
   "execution_count": 370,
   "id": "e79e20bd",
   "metadata": {},
   "outputs": [],
   "source": [
    "# 0인 값은 1로, 그외 값은 0으로\n",
    "def create_padding_mask(x):\n",
    "    mask = tf.cast(tf.math.equal(x, 0), tf.float32)\n",
    "    # (batch_size, 1, 1, sequence length)\n",
    "    return mask[:, tf.newaxis, tf.newaxis, :]"
   ]
  },
  {
   "cell_type": "code",
   "execution_count": 371,
   "id": "cd1a7a77",
   "metadata": {},
   "outputs": [],
   "source": [
    "def create_look_ahead_mask(x):\n",
    "    seq_len = tf.shape(x)[1]\n",
    "    look_ahead_mask = 1 - tf.linalg.band_part(tf.ones((seq_len, seq_len)), -1, 0)\n",
    "    padding_mask = create_padding_mask(x)\n",
    "    return tf.maximum(look_ahead_mask, padding_mask)"
   ]
  },
  {
   "cell_type": "code",
   "execution_count": 372,
   "id": "05e65fe6",
   "metadata": {},
   "outputs": [
    {
     "data": {
      "text/plain": [
       "<tf.Tensor: shape=(1, 1, 5, 5), dtype=float32, numpy=\n",
       "array([[[[0., 1., 1., 1., 1.],\n",
       "         [0., 0., 1., 1., 1.],\n",
       "         [0., 0., 0., 1., 1.],\n",
       "         [0., 0., 0., 0., 1.],\n",
       "         [0., 0., 0., 0., 0.]]]], dtype=float32)>"
      ]
     },
     "execution_count": 372,
     "metadata": {},
     "output_type": "execute_result"
    }
   ],
   "source": [
    "# example\n",
    "create_look_ahead_mask(tf.constant([[1, 2, 3, 4, 5]]))"
   ]
  },
  {
   "cell_type": "code",
   "execution_count": 373,
   "id": "f2babb3f",
   "metadata": {},
   "outputs": [
    {
     "data": {
      "text/plain": [
       "<tf.Tensor: shape=(1, 1, 5, 5), dtype=float32, numpy=\n",
       "array([[[[1., 1., 1., 1., 1.],\n",
       "         [1., 0., 1., 1., 1.],\n",
       "         [1., 0., 0., 1., 1.],\n",
       "         [1., 0., 0., 0., 1.],\n",
       "         [1., 0., 0., 0., 0.]]]], dtype=float32)>"
      ]
     },
     "execution_count": 373,
     "metadata": {},
     "output_type": "execute_result"
    }
   ],
   "source": [
    "# example: 0 is padding\n",
    "create_look_ahead_mask(tf.constant([[0, 5, 1, 5, 5]]))"
   ]
  },
  {
   "cell_type": "markdown",
   "id": "af964bac",
   "metadata": {},
   "source": [
    "## GPT"
   ]
  },
  {
   "cell_type": "markdown",
   "id": "e4f703f9",
   "metadata": {},
   "source": [
    "### Positional Embedding"
   ]
  },
  {
   "cell_type": "code",
   "execution_count": 374,
   "id": "049248c6",
   "metadata": {},
   "outputs": [],
   "source": [
    "#####################################\n",
    "######## Encoder -> Embedder ########\n",
    "#####################################\n",
    "class PositionalEmbedding(tf.keras.layers.Layer):\n",
    "    def __init__(self, max_len, d_model, name=\"pos_embedding\"):\n",
    "        super(PositionalEmbedding, self).__init__()\n",
    "        self.max_len = max_len\n",
    "        self.d_model = d_model\n",
    "        self.pos_embedding = tf.keras.layers.Embedding(input_dim=max_len, output_dim=d_model, name=name)\n",
    "\n",
    "    def call(self, inputs):\n",
    "        length = tf.shape(inputs)[1]\n",
    "        positions = tf.range(start=0, limit=length, delta=1)\n",
    "        positions = self.pos_embedding(positions)\n",
    "        return inputs + positions"
   ]
  },
  {
   "cell_type": "markdown",
   "id": "742d8e17",
   "metadata": {},
   "source": [
    "### Decoder"
   ]
  },
  {
   "cell_type": "code",
   "execution_count": 375,
   "id": "c2d35a66",
   "metadata": {},
   "outputs": [],
   "source": [
    "# 디코더 하나의 레이어를 함수로 구현.\n",
    "# 이 하나의 레이어 안에는 세 개의 서브 레이어가 존재합니다.\n",
    "def decoder_layer(units, d_model, num_heads, dropout, name=\"decoder_layer\"):\n",
    "    inputs = tf.keras.Input(shape=(None, d_model), name=\"inputs\")\n",
    "    look_ahead_mask = tf.keras.Input(shape=(1, None, None), name=\"look_ahead_mask\")\n",
    "\n",
    "    self_attention = MultiHeadAttention(d_model, num_heads, name=\"attention_1\")(\n",
    "        inputs={\n",
    "            'query': inputs,\n",
    "            'key': inputs,\n",
    "            'value': inputs,\n",
    "            'mask': look_ahead_mask\n",
    "        }\n",
    "    )\n",
    "    self_attention = tf.keras.layers.LayerNormalization(epsilon=1e-6)(self_attention + inputs)\n",
    "\n",
    "    outputs = tf.keras.layers.Dense(units=units, activation='relu')(self_attention)\n",
    "    outputs = tf.keras.layers.Dense(units=d_model)(outputs)\n",
    "    outputs = tf.keras.layers.Dropout(rate=dropout)(outputs)\n",
    "    outputs = tf.keras.layers.LayerNormalization(epsilon=1e-6)(outputs + self_attention)\n",
    "\n",
    "    return tf.keras.Model(\n",
    "        inputs=[inputs, look_ahead_mask],\n",
    "        outputs=outputs,\n",
    "        name=name)\n",
    "\n",
    "def decoder(vocab_size,\n",
    "            seq_len,\n",
    "            num_layers,\n",
    "            units,\n",
    "            d_model,\n",
    "            num_heads,\n",
    "            dropout,\n",
    "            name='decoder'):\n",
    "    inputs = tf.keras.Input(shape=(None,), name='inputs')\n",
    "    look_ahead_mask = tf.keras.Input(shape=(1, None, None), name='look_ahead_mask')\n",
    "\n",
    "    # 임베딩 레이어\n",
    "    embeddings = tf.keras.layers.Embedding(vocab_size, d_model, name=\"word_embedding\")(inputs)\n",
    "    embeddings *= tf.math.sqrt(tf.cast(d_model, tf.float32))\n",
    "\n",
    "    # 포지셔널 임베딩\n",
    "    pos_embeddings = PositionalEmbedding(seq_len, d_model)(embeddings)\n",
    "    \n",
    "    # Dropout이라는 훈련을 돕는 테크닉을 수행\n",
    "    outputs = tf.keras.layers.Dropout(rate=dropout)(pos_embeddings)\n",
    "\n",
    "    for i in range(num_layers):\n",
    "        outputs = decoder_layer(\n",
    "            units=units,\n",
    "            d_model=d_model,\n",
    "            num_heads=num_heads,\n",
    "            dropout=dropout,\n",
    "            name='decoder_layer_{}'.format(i),\n",
    "        )(inputs=[outputs, look_ahead_mask])\n",
    "\n",
    "    return tf.keras.Model(\n",
    "      inputs=[inputs, look_ahead_mask],\n",
    "      outputs=outputs,\n",
    "      name=name)"
   ]
  },
  {
   "cell_type": "code",
   "execution_count": 376,
   "id": "33339cab",
   "metadata": {},
   "outputs": [],
   "source": [
    "##################################\n",
    "######## 인코더 관련 모듈 삭제 ########\n",
    "##################################\n",
    "def GPT(vocab_size,\n",
    "        seq_len,\n",
    "        num_layers,\n",
    "        units,\n",
    "        d_model,\n",
    "        num_heads,\n",
    "        dropout,\n",
    "        name=\"transformer\"):\n",
    "    inputs = tf.keras.Input(shape=(None,), name=\"inputs\")\n",
    "\n",
    "    # 디코더에서 미래의 토큰을 마스크 하기 위해서 사용합니다.\n",
    "    # 내부적으로 패딩 마스크도 포함되어져 있습니다.\n",
    "    look_ahead_mask = tf.keras.layers.Lambda(\n",
    "        create_look_ahead_mask,\n",
    "        output_shape=(1, None, None),\n",
    "        name='look_ahead_mask')(inputs)\n",
    "\n",
    "    # 디코더\n",
    "    dec_outputs = decoder(\n",
    "        vocab_size=vocab_size,\n",
    "        seq_len=seq_len,\n",
    "        num_layers=num_layers,\n",
    "        units=units,\n",
    "        d_model=d_model,\n",
    "        num_heads=num_heads,\n",
    "        dropout=dropout,\n",
    "    )(inputs=[inputs, look_ahead_mask])\n",
    "\n",
    "    # 완전연결층\n",
    "    outputs = tf.keras.layers.Dense(units=vocab_size, name=\"outputs\")(dec_outputs)\n",
    "    return tf.keras.Model(inputs=inputs, outputs=outputs, name=name)"
   ]
  },
  {
   "cell_type": "markdown",
   "id": "cea94310",
   "metadata": {},
   "source": [
    "## Data"
   ]
  },
  {
   "cell_type": "code",
   "execution_count": 377,
   "id": "dd117411",
   "metadata": {},
   "outputs": [
    {
     "data": {
      "text/html": [
       "<div>\n",
       "<style scoped>\n",
       "    .dataframe tbody tr th:only-of-type {\n",
       "        vertical-align: middle;\n",
       "    }\n",
       "\n",
       "    .dataframe tbody tr th {\n",
       "        vertical-align: top;\n",
       "    }\n",
       "\n",
       "    .dataframe thead th {\n",
       "        text-align: right;\n",
       "    }\n",
       "</style>\n",
       "<table border=\"1\" class=\"dataframe\">\n",
       "  <thead>\n",
       "    <tr style=\"text-align: right;\">\n",
       "      <th></th>\n",
       "      <th>Q</th>\n",
       "      <th>A</th>\n",
       "      <th>label</th>\n",
       "    </tr>\n",
       "  </thead>\n",
       "  <tbody>\n",
       "    <tr>\n",
       "      <th>0</th>\n",
       "      <td>12시 땡!</td>\n",
       "      <td>하루가 또 가네요.</td>\n",
       "      <td>0</td>\n",
       "    </tr>\n",
       "    <tr>\n",
       "      <th>1</th>\n",
       "      <td>1지망 학교 떨어졌어</td>\n",
       "      <td>위로해 드립니다.</td>\n",
       "      <td>0</td>\n",
       "    </tr>\n",
       "    <tr>\n",
       "      <th>2</th>\n",
       "      <td>3박4일 놀러가고 싶다</td>\n",
       "      <td>여행은 언제나 좋죠.</td>\n",
       "      <td>0</td>\n",
       "    </tr>\n",
       "    <tr>\n",
       "      <th>3</th>\n",
       "      <td>3박4일 정도 놀러가고 싶다</td>\n",
       "      <td>여행은 언제나 좋죠.</td>\n",
       "      <td>0</td>\n",
       "    </tr>\n",
       "    <tr>\n",
       "      <th>4</th>\n",
       "      <td>PPL 심하네</td>\n",
       "      <td>눈살이 찌푸려지죠.</td>\n",
       "      <td>0</td>\n",
       "    </tr>\n",
       "    <tr>\n",
       "      <th>...</th>\n",
       "      <td>...</td>\n",
       "      <td>...</td>\n",
       "      <td>...</td>\n",
       "    </tr>\n",
       "    <tr>\n",
       "      <th>11818</th>\n",
       "      <td>훔쳐보는 것도 눈치 보임.</td>\n",
       "      <td>티가 나니까 눈치가 보이는 거죠!</td>\n",
       "      <td>2</td>\n",
       "    </tr>\n",
       "    <tr>\n",
       "      <th>11819</th>\n",
       "      <td>훔쳐보는 것도 눈치 보임.</td>\n",
       "      <td>훔쳐보는 거 티나나봐요.</td>\n",
       "      <td>2</td>\n",
       "    </tr>\n",
       "    <tr>\n",
       "      <th>11820</th>\n",
       "      <td>흑기사 해주는 짝남.</td>\n",
       "      <td>설렜겠어요.</td>\n",
       "      <td>2</td>\n",
       "    </tr>\n",
       "    <tr>\n",
       "      <th>11821</th>\n",
       "      <td>힘든 연애 좋은 연애라는게 무슨 차이일까?</td>\n",
       "      <td>잘 헤어질 수 있는 사이 여부인 거 같아요.</td>\n",
       "      <td>2</td>\n",
       "    </tr>\n",
       "    <tr>\n",
       "      <th>11822</th>\n",
       "      <td>힘들어서 결혼할까봐</td>\n",
       "      <td>도피성 결혼은 하지 않길 바라요.</td>\n",
       "      <td>2</td>\n",
       "    </tr>\n",
       "  </tbody>\n",
       "</table>\n",
       "<p>11823 rows × 3 columns</p>\n",
       "</div>"
      ],
      "text/plain": [
       "                             Q                         A  label\n",
       "0                       12시 땡!                하루가 또 가네요.      0\n",
       "1                  1지망 학교 떨어졌어                 위로해 드립니다.      0\n",
       "2                 3박4일 놀러가고 싶다               여행은 언제나 좋죠.      0\n",
       "3              3박4일 정도 놀러가고 싶다               여행은 언제나 좋죠.      0\n",
       "4                      PPL 심하네                눈살이 찌푸려지죠.      0\n",
       "...                        ...                       ...    ...\n",
       "11818           훔쳐보는 것도 눈치 보임.        티가 나니까 눈치가 보이는 거죠!      2\n",
       "11819           훔쳐보는 것도 눈치 보임.             훔쳐보는 거 티나나봐요.      2\n",
       "11820              흑기사 해주는 짝남.                    설렜겠어요.      2\n",
       "11821  힘든 연애 좋은 연애라는게 무슨 차이일까?  잘 헤어질 수 있는 사이 여부인 거 같아요.      2\n",
       "11822               힘들어서 결혼할까봐        도피성 결혼은 하지 않길 바라요.      2\n",
       "\n",
       "[11823 rows x 3 columns]"
      ]
     },
     "execution_count": 377,
     "metadata": {},
     "output_type": "execute_result"
    }
   ],
   "source": [
    "import pandas as pd\n",
    "\n",
    "data_df = pd.read_csv(\"data/ChatbotData.csv\")\n",
    "data_df"
   ]
  },
  {
   "cell_type": "code",
   "execution_count": 378,
   "id": "1fb6e5cf",
   "metadata": {},
   "outputs": [
    {
     "name": "stdout",
     "output_type": "stream",
     "text": [
      "q_max_words=15, a_max_words=21\n"
     ]
    }
   ],
   "source": [
    "q_max_words = data_df[\"Q\"].apply(lambda x: len(x.split())).max()\n",
    "a_max_words = data_df[\"A\"].apply(lambda x: len(x.split())).max()\n",
    "\n",
    "print(f\"{q_max_words=}, {a_max_words=}\")"
   ]
  },
  {
   "cell_type": "code",
   "execution_count": 379,
   "id": "5e415b3c",
   "metadata": {},
   "outputs": [
    {
     "data": {
      "text/plain": [
       "Q        0\n",
       "A        0\n",
       "label    0\n",
       "dtype: int64"
      ]
     },
     "execution_count": 379,
     "metadata": {},
     "output_type": "execute_result"
    }
   ],
   "source": [
    "data_df.isna().sum()"
   ]
  },
  {
   "cell_type": "code",
   "execution_count": 380,
   "id": "a5e22a7b",
   "metadata": {},
   "outputs": [
    {
     "data": {
      "text/plain": [
       "11823"
      ]
     },
     "execution_count": 380,
     "metadata": {},
     "output_type": "execute_result"
    }
   ],
   "source": [
    "len(data_df[\"Q\"].tolist())"
   ]
  },
  {
   "cell_type": "code",
   "execution_count": 381,
   "id": "a5abf2c1",
   "metadata": {},
   "outputs": [],
   "source": [
    "import re\n",
    "\n",
    "def preprocess_sentence(sentence):\n",
    "    sentence = sentence.strip()\n",
    "    sentence = re.sub(r'[\" \"]+', \" \", sentence)\n",
    "    sentence = re.sub('([ㄱ-ㅎㅏ-ㅣ]+)', '', sentence) # 한글 자음, 모음 제거\n",
    "    sentence = re.sub('[^\\w\\s\\n]', '', sentence) # 특수기호 제거\n",
    "    sentence = sentence.strip()\n",
    "    return sentence\n",
    "    \n",
    "def load_conversation(data_df):\n",
    "    questions = data_df[\"Q\"].tolist()\n",
    "    answers = data_df[\"A\"].tolist()\n",
    "    \n",
    "    questions = [preprocess_sentence(q) for q in questions]\n",
    "    answers = [preprocess_sentence(a) for a in answers]\n",
    "    \n",
    "    return questions, answers"
   ]
  },
  {
   "cell_type": "code",
   "execution_count": 382,
   "id": "69e2ac50",
   "metadata": {},
   "outputs": [],
   "source": [
    "import tensorflow_datasets as tfds\n",
    "\n",
    "questions, answers = load_conversation(data_df)\n",
    "tokenizer = tfds.deprecated.text.SubwordTextEncoder.build_from_corpus(questions + answers, target_vocab_size=2**13)"
   ]
  },
  {
   "cell_type": "code",
   "execution_count": 383,
   "id": "7e5c0afa",
   "metadata": {},
   "outputs": [],
   "source": [
    "START_TOKEN = tokenizer.vocab_size\n",
    "END_TOKEN = tokenizer.vocab_size + 1\n",
    "DELIMITER_TOKEN = tokenizer.vocab_size + 2\n",
    "\n",
    "VOCAB_SIZE = tokenizer.vocab_size + 3\n"
   ]
  },
  {
   "cell_type": "code",
   "execution_count": 384,
   "id": "febf3bf3",
   "metadata": {},
   "outputs": [],
   "source": [
    "MAX_LENGTH = 80\n",
    "\n",
    "def tokenize(questions, answers):\n",
    "    tokenized_sentenses = []\n",
    "    \n",
    "    for q, a in zip(questions, answers):\n",
    "        tokenized_sentenses.append(\n",
    "            #############################\n",
    "            ######## 입력 형태 변경 ########\n",
    "            #############################\n",
    "            [START_TOKEN] + tokenizer.encode(q) + [DELIMITER_TOKEN] + tokenizer.encode(a) + [END_TOKEN]\n",
    "        )\n",
    "        \n",
    "    return keras.preprocessing.sequence.pad_sequences(tokenized_sentenses, maxlen=MAX_LENGTH, padding='post')"
   ]
  },
  {
   "cell_type": "code",
   "execution_count": 385,
   "id": "0db74eb0",
   "metadata": {},
   "outputs": [
    {
     "name": "stdout",
     "output_type": "stream",
     "text": [
      "단어장의 크기 : 8181\n",
      "필터링 후의 문장 샘플 개수: 11823\n"
     ]
    }
   ],
   "source": [
    "sentences_tokens = tokenize(questions, answers)\n",
    "print('단어장의 크기 :',(VOCAB_SIZE))\n",
    "print('필터링 후의 문장 샘플 개수: {}'.format(len(sentences_tokens)))"
   ]
  },
  {
   "cell_type": "code",
   "execution_count": 386,
   "id": "72281409",
   "metadata": {},
   "outputs": [],
   "source": [
    "BATCH_SIZE = 64\n",
    "BUFFER_SIZE = 20000\n",
    "\n",
    "# 디코더는 이전의 target을 다음의 input으로 사용합니다.\n",
    "# 이에 따라 outputs에서는 START_TOKEN을 제거하겠습니다.\n",
    "dataset = tf.data.Dataset.from_tensor_slices((\n",
    "    {\n",
    "        'inputs': sentences_tokens[:, :-1], # eos 토큰 제외\n",
    "    },\n",
    "    {\n",
    "        'outputs': sentences_tokens[:, 1:] # sos 토큰 제외\n",
    "    },\n",
    "))\n",
    "\n",
    "dataset = dataset.cache()\n",
    "dataset = dataset.shuffle(BUFFER_SIZE)\n",
    "dataset = dataset.batch(BATCH_SIZE)\n",
    "dataset = dataset.prefetch(tf.data.experimental.AUTOTUNE)"
   ]
  },
  {
   "cell_type": "code",
   "execution_count": 387,
   "id": "b5eb0ed4",
   "metadata": {},
   "outputs": [
    {
     "name": "stdout",
     "output_type": "stream",
     "text": [
      "({'inputs': <tf.Tensor: shape=(64, 79), dtype=int32, numpy=\n",
      "array([[8178, 4555,   25, ...,    0,    0,    0],\n",
      "       [8178, 7571, 7954, ...,    0,    0,    0],\n",
      "       [8178, 5012,  204, ...,    0,    0,    0],\n",
      "       ...,\n",
      "       [8178, 3947, 2299, ...,    0,    0,    0],\n",
      "       [8178,    7,   38, ...,    0,    0,    0],\n",
      "       [8178, 2444,  466, ...,    0,    0,    0]], dtype=int32)>}, {'outputs': <tf.Tensor: shape=(64, 79), dtype=int32, numpy=\n",
      "array([[4555,   25,  375, ...,    0,    0,    0],\n",
      "       [7571, 7954,  328, ...,    0,    0,    0],\n",
      "       [5012,  204,   82, ...,    0,    0,    0],\n",
      "       ...,\n",
      "       [3947, 2299, 4041, ...,    0,    0,    0],\n",
      "       [   7,   38,  219, ...,    0,    0,    0],\n",
      "       [2444,  466,   61, ...,    0,    0,    0]], dtype=int32)>})\n"
     ]
    }
   ],
   "source": [
    "for s in dataset.take(1):\n",
    "    print(s)"
   ]
  },
  {
   "cell_type": "markdown",
   "id": "df9d63d5",
   "metadata": {},
   "source": [
    "## Train"
   ]
  },
  {
   "cell_type": "code",
   "execution_count": 388,
   "id": "2c2911c4",
   "metadata": {},
   "outputs": [
    {
     "name": "stdout",
     "output_type": "stream",
     "text": [
      "Model: \"transformer\"\n",
      "__________________________________________________________________________________________________\n",
      "Layer (type)                    Output Shape         Param #     Connected to                     \n",
      "==================================================================================================\n",
      "inputs (InputLayer)             [(None, None)]       0                                            \n",
      "__________________________________________________________________________________________________\n",
      "look_ahead_mask (Lambda)        (None, 1, None, None 0           inputs[0][0]                     \n",
      "__________________________________________________________________________________________________\n",
      "decoder (Functional)            (None, None, 256)    3169024     inputs[0][0]                     \n",
      "                                                                 look_ahead_mask[0][0]            \n",
      "__________________________________________________________________________________________________\n",
      "outputs (Dense)                 (None, None, 8181)   2102517     decoder[0][0]                    \n",
      "==================================================================================================\n",
      "Total params: 5,271,541\n",
      "Trainable params: 5,271,541\n",
      "Non-trainable params: 0\n",
      "__________________________________________________________________________________________________\n"
     ]
    }
   ],
   "source": [
    "tf.keras.backend.clear_session()\n",
    "\n",
    "# 하이퍼파라미터\n",
    "NUM_LAYERS = 2 # 인코더와 디코더의 층의 개수\n",
    "D_MODEL = 256 # 인코더와 디코더 내부의 입, 출력의 고정 차원\n",
    "NUM_HEADS = 8 # 멀티 헤드 어텐션에서의 헤드 수 \n",
    "UNITS = 512 # 피드 포워드 신경망의 은닉층의 크기\n",
    "DROPOUT = 0.1 # 드롭아웃의 비율\n",
    "\n",
    "model = GPT(\n",
    "    vocab_size=VOCAB_SIZE,\n",
    "    seq_len=MAX_LENGTH,\n",
    "    num_layers=NUM_LAYERS,\n",
    "    units=UNITS,\n",
    "    d_model=D_MODEL,\n",
    "    num_heads=NUM_HEADS,\n",
    "    dropout=DROPOUT)\n",
    "\n",
    "model.summary()"
   ]
  },
  {
   "cell_type": "code",
   "execution_count": 389,
   "id": "886e4fa5",
   "metadata": {},
   "outputs": [],
   "source": [
    "def loss_function(y_true, y_pred):\n",
    "    y_true = tf.reshape(y_true, shape=(-1, MAX_LENGTH - 1))\n",
    "\n",
    "    loss = tf.keras.losses.SparseCategoricalCrossentropy(\n",
    "      from_logits=True, reduction='none')(y_true, y_pred)\n",
    "\n",
    "    mask = tf.cast(tf.not_equal(y_true, 0), tf.float32)\n",
    "    loss = tf.multiply(loss, mask)\n",
    "\n",
    "    return tf.reduce_mean(loss)"
   ]
  },
  {
   "cell_type": "code",
   "execution_count": 390,
   "id": "6f990ab5",
   "metadata": {},
   "outputs": [],
   "source": [
    "class CustomSchedule(tf.keras.optimizers.schedules.LearningRateSchedule):\n",
    "\n",
    "    def __init__(self, d_model, warmup_steps=4000):\n",
    "        super(CustomSchedule, self).__init__()\n",
    "\n",
    "        self.d_model = d_model\n",
    "        self.d_model = tf.cast(self.d_model, tf.float32)\n",
    "\n",
    "        self.warmup_steps = warmup_steps\n",
    "\n",
    "    def __call__(self, step):\n",
    "        arg1 = tf.math.rsqrt(step)\n",
    "        arg2 = step * (self.warmup_steps**-1.5)\n",
    "\n",
    "        return tf.math.rsqrt(self.d_model) * tf.math.minimum(arg1, arg2)\n"
   ]
  },
  {
   "cell_type": "code",
   "execution_count": 391,
   "id": "517550cf",
   "metadata": {},
   "outputs": [
    {
     "data": {
      "text/plain": [
       "Text(0.5, 0, 'Train Step')"
      ]
     },
     "execution_count": 391,
     "metadata": {},
     "output_type": "execute_result"
    },
    {
     "data": {
      "image/png": "[encoded data removed]",
      "text/plain": [
       "<Figure size 432x288 with 1 Axes>"
      ]
     },
     "metadata": {
      "needs_background": "light"
     },
     "output_type": "display_data"
    }
   ],
   "source": [
    "import matplotlib.pyplot as plt\n",
    "\n",
    "sample_learning_rate = CustomSchedule(d_model=128)\n",
    "\n",
    "plt.plot(sample_learning_rate(tf.range(200000, dtype=tf.float32)))\n",
    "plt.ylabel(\"Learning Rate\")\n",
    "plt.xlabel(\"Train Step\")"
   ]
  },
  {
   "cell_type": "code",
   "execution_count": 392,
   "id": "29ff01a9",
   "metadata": {},
   "outputs": [],
   "source": [
    "learning_rate = CustomSchedule(D_MODEL)\n",
    "\n",
    "optimizer = tf.keras.optimizers.Adam(\n",
    "    learning_rate, beta_1=0.9, beta_2=0.98, epsilon=1e-9)\n",
    "\n",
    "def accuracy(y_true, y_pred):\n",
    "    y_true = tf.reshape(y_true, shape=(-1, MAX_LENGTH - 1))\n",
    "    return tf.keras.metrics.sparse_categorical_accuracy(y_true, y_pred)\n",
    "\n",
    "model.compile(optimizer=optimizer, loss=loss_function, metrics=[accuracy])"
   ]
  },
  {
   "cell_type": "code",
   "execution_count": 394,
   "id": "cff69c67",
   "metadata": {},
   "outputs": [
    {
     "name": "stdout",
     "output_type": "stream",
     "text": [
      "Epoch 1/30\n",
      "185/185 [==============================] - 11s 61ms/step - loss: 1.2717 - accuracy: 0.0184\n",
      "Epoch 2/30\n",
      "185/185 [==============================] - 11s 62ms/step - loss: 1.1086 - accuracy: 0.0253\n",
      "Epoch 3/30\n",
      "185/185 [==============================] - 11s 61ms/step - loss: 1.0145 - accuracy: 0.0267\n",
      "Epoch 4/30\n",
      "185/185 [==============================] - 11s 61ms/step - loss: 0.9478 - accuracy: 0.0300\n",
      "Epoch 5/30\n",
      "185/185 [==============================] - 11s 61ms/step - loss: 0.8911 - accuracy: 0.0331\n",
      "Epoch 6/30\n",
      "185/185 [==============================] - 11s 61ms/step - loss: 0.8363 - accuracy: 0.0365\n",
      "Epoch 7/30\n",
      "185/185 [==============================] - 11s 61ms/step - loss: 0.7818 - accuracy: 0.0405\n",
      "Epoch 8/30\n",
      "185/185 [==============================] - 11s 61ms/step - loss: 0.7253 - accuracy: 0.0447\n",
      "Epoch 9/30\n",
      "185/185 [==============================] - 11s 61ms/step - loss: 0.6666 - accuracy: 0.0492\n",
      "Epoch 10/30\n",
      "185/185 [==============================] - 11s 61ms/step - loss: 0.6062 - accuracy: 0.0543\n",
      "Epoch 11/30\n",
      "185/185 [==============================] - 11s 61ms/step - loss: 0.5450 - accuracy: 0.0603\n",
      "Epoch 12/30\n",
      "185/185 [==============================] - 11s 61ms/step - loss: 0.4844 - accuracy: 0.0671\n",
      "Epoch 13/30\n",
      "185/185 [==============================] - 11s 61ms/step - loss: 0.4256 - accuracy: 0.0754\n",
      "Epoch 14/30\n",
      "185/185 [==============================] - 11s 61ms/step - loss: 0.3723 - accuracy: 0.0834\n",
      "Epoch 15/30\n",
      "185/185 [==============================] - 11s 61ms/step - loss: 0.3230 - accuracy: 0.0918\n",
      "Epoch 16/30\n",
      "185/185 [==============================] - 11s 61ms/step - loss: 0.2826 - accuracy: 0.0992\n",
      "Epoch 17/30\n",
      "185/185 [==============================] - 11s 61ms/step - loss: 0.2509 - accuracy: 0.1055\n",
      "Epoch 18/30\n",
      "185/185 [==============================] - 11s 61ms/step - loss: 0.2281 - accuracy: 0.1102\n",
      "Epoch 19/30\n",
      "185/185 [==============================] - 11s 61ms/step - loss: 0.2142 - accuracy: 0.1130\n",
      "Epoch 20/30\n",
      "185/185 [==============================] - 11s 61ms/step - loss: 0.2050 - accuracy: 0.1147\n",
      "Epoch 21/30\n",
      "185/185 [==============================] - 11s 61ms/step - loss: 0.2004 - accuracy: 0.1157\n",
      "Epoch 22/30\n",
      "185/185 [==============================] - 11s 61ms/step - loss: 0.1968 - accuracy: 0.1163\n",
      "Epoch 23/30\n",
      "185/185 [==============================] - 11s 61ms/step - loss: 0.1897 - accuracy: 0.1178\n",
      "Epoch 24/30\n",
      "185/185 [==============================] - 11s 61ms/step - loss: 0.1841 - accuracy: 0.1188\n",
      "Epoch 25/30\n",
      "185/185 [==============================] - 11s 61ms/step - loss: 0.1786 - accuracy: 0.1200\n",
      "Epoch 26/30\n",
      "185/185 [==============================] - 11s 61ms/step - loss: 0.1750 - accuracy: 0.1207\n",
      "Epoch 27/30\n",
      "185/185 [==============================] - 11s 61ms/step - loss: 0.1713 - accuracy: 0.1213\n",
      "Epoch 28/30\n",
      "185/185 [==============================] - 11s 61ms/step - loss: 0.1686 - accuracy: 0.1218\n",
      "Epoch 29/30\n",
      "185/185 [==============================] - 11s 61ms/step - loss: 0.1661 - accuracy: 0.1222\n",
      "Epoch 30/30\n",
      "185/185 [==============================] - 11s 61ms/step - loss: 0.1645 - accuracy: 0.1225\n"
     ]
    }
   ],
   "source": [
    "EPOCHS = 30\n",
    "\n",
    "history = model.fit(dataset, epochs=EPOCHS, verbose=1)"
   ]
  },
  {
   "cell_type": "markdown",
   "id": "58ec8f5a",
   "metadata": {},
   "source": [
    "## inference"
   ]
  },
  {
   "cell_type": "code",
   "execution_count": 395,
   "id": "f104849e",
   "metadata": {},
   "outputs": [],
   "source": [
    "def decoder_inference(sentence):\n",
    "    sentence = preprocess_sentence(sentence)\n",
    "\n",
    "    # 입력된 문장을 정수 인코딩 후, 시작 토큰과 종료 토큰을 앞뒤로 추가.\n",
    "    # ex) Where have you been? → [[8331   86   30    5 1059    7 8332]]\n",
    "    sentence = tf.expand_dims([START_TOKEN] + tokenizer.encode(sentence) + [END_TOKEN], axis=0)\n",
    "\n",
    "    # 디코더의 현재까지의 예측한 출력 시퀀스가 지속적으로 저장되는 변수.\n",
    "    # 처음에는 예측한 내용이 없음으로 시작 토큰만 별도 저장. ex) 8331\n",
    "    output_sequence = tf.expand_dims([START_TOKEN], 0)\n",
    "\n",
    "    # 디코더의 인퍼런스 단계\n",
    "    for i in range(MAX_LENGTH):\n",
    "        # 디코더는 최대 MAX_LENGTH의 길이만큼 다음 단어 예측을 반복합니다.\n",
    "        predictions = model(inputs=sentence, training=False)\n",
    "        predictions = predictions[:, -1:, :]\n",
    "\n",
    "        # 현재 예측한 단어의 정수\n",
    "        predicted_id = tf.cast(tf.argmax(predictions, axis=-1), tf.int32)\n",
    "\n",
    "        # 만약 현재 예측한 단어가 종료 토큰이라면 for문을 종료\n",
    "        if tf.equal(predicted_id, END_TOKEN):\n",
    "            break\n",
    "\n",
    "        # 예측한 단어들은 지속적으로 output_sequence에 추가됩니다.\n",
    "        # 이 output_sequence는 다시 디코더의 입력이 됩니다.\n",
    "        output_sequence = tf.concat([output_sequence, predicted_id], axis=-1)\n",
    "\n",
    "    return tf.squeeze(output_sequence, axis=0)"
   ]
  },
  {
   "cell_type": "code",
   "execution_count": 396,
   "id": "2ab0d583",
   "metadata": {},
   "outputs": [],
   "source": [
    "def sentence_generation(sentence):\n",
    "    # 입력 문장에 대해서 디코더를 동작 시켜 예측된 정수 시퀀스를 리턴받습니다.\n",
    "    prediction = decoder_inference(sentence)\n",
    "\n",
    "    # 정수 시퀀스를 다시 텍스트 시퀀스로 변환합니다.\n",
    "    predicted_sentence = tokenizer.decode([i for i in prediction if i < tokenizer.vocab_size])\n",
    "\n",
    "    return predicted_sentence"
   ]
  },
  {
   "cell_type": "code",
   "execution_count": 397,
   "id": "1b14b66e",
   "metadata": {},
   "outputs": [
    {
     "name": "stdout",
     "output_type": "stream",
     "text": [
      "[질문] 내가 많이 부족한가 / [모델 답변] 보고 보고 보고 보고 보고 보고 보고 보고 보고 보고 보고 보고 보고 보고 보고 보고 보고 보고 보고 보고 보고 보고 보고 보고 보고 보고 보고 보고 보고 보고 보고 보고 보고 보고 보고 보고 보고 보고 보고 보고 보고 보고 보고 보고 보고 보고 보고 보고 보고 보고 보고 보고 보고 보고 보고 보고 보고 보고 보고 보고 보고 보고 보고 보고 보고 보고 보고 보고 보고 보고 보고 보고 보고 보고 보고 보고 보고 보고 보고 보고  / [실제 답변] 잘하는 게 다른 거예요\n",
      "[질문] 좋아하는 사람이 단톡에서 다른 남자한테 관심 있는 것 같이 보여요 / [모델 답변]                                                                                  / [실제 답변] 그렇게 느낀다면 조금씩 정리하는게 좋겠어요\n",
      "[질문] 짝녀 고민 들어줘 / [모델 답변]  / [실제 답변] 들어드릴게요\n",
      "[질문] 적당히를 몰라 / [모델 답변]                                                                                  / [실제 답변] 사람들이 중간을 몰라요\n",
      "[질문] 썸남 목소리 듣고 싶어 / [모델 답변]  / [실제 답변] 지금 전화해보세요\n",
      "[질문] 사랑할수록 행복해 / [모델 답변] 너무 너무 너무 너무 너무 너무 너무 너무 너무 너무 너무 너무 너무 너무 너무 너무 너무 너무 너무 너무 너무 너무 너무 너무 너무 너무 너무 너무 너무 너무 너무 너무 너무 너무 너무 너무 너무 너무 너무 너무 너무 너무 너무 너무 너무 너무 너무 너무 너무 너무 너무 너무 너무 너무 너무 너무 너무 너무 너무 너무 너무 너무 너무 너무 너무 너무 너무 너무 너무 너무 너무 너무 너무 너무 너무 너무 너무 너무 너무 너무  / [실제 답변] 행복한 사랑을 하고 있네요\n",
      "[질문] 싸우면 어떻게 해결해 / [모델 답변] 보고 보고 보고 보고 보고 보고 보고 보고 보고 보고 보고 보고 보고 보고 보고 보고 보고 보고 보고 보고 보고 보고 보고 보고 보고 보고 보고 보고 보고 보고 보고 보고 보고 보고 보고 보고 보고 보고 보고 보고 보고 보고 보고 보고 보고 보고 보고 보고 보고 보고 보고 보고 보고 보고 보고 보고 보고 보고 보고 보고 보고 보고 보고 보고 보고 보고 보고 보고 보고 보고 보고 보고 보고 보고 보고 보고 보고 보고 보고 보고  / [실제 답변] 제대로 사과해야죠\n",
      "[질문] 매일 카페에서 보게 되는 그녀가 눈에 밟혀 / [모델 답변]  / [실제 답변] 내일도 만난다면 데이트 신청해보세요\n",
      "[질문] 여자친구가 감정없이 카톡 답장해 / [모델 답변]  / [실제 답변] 상처받고 있다고 말해보세요\n",
      "[질문] 여자친구가 연애하는데 가끔씩 막말을 해 / [모델 답변]  / [실제 답변] 막말에 상처받지 않았으면 좋겠어요\n",
      "[질문] 셀프인테리어 해볼까 / [모델 답변] 손손손손손손손손손손손손손손손손손손손손손손손손손손손손손손손손손손손손손손손손손손손손손손손손손손손손손손손손손손손손손손손손손손손손손손손손손손손손손손손손 / [실제 답변] 손길이 가서 더 애정이 생길 것 같아요\n",
      "[질문] 청첩장 골랐어 / [모델 답변] �������������������������������������������������������������������������������� / [실제 답변] 누구한테 줄지 생각해 보세요\n",
      "[질문] 예능 볼 게 없다 / [모델 답변] 어어어어어어어어어어어어어어어어어어어어어어어어어어어어어어어어어어어어어어어어어어어어어어어어어어어어어어어어어어어어어어어어어어어어어어어어어어어어어어어어 / [실제 답변] 잘 찾아보세요\n",
      "[질문] 내일 떨린다 / [모델 답변]                                                                                  / [실제 답변] 파이팅\n",
      "[질문] 썸의 기준이 뭐야 / [모델 답변]                                                                                  / [실제 답변] 둘 중 누구든 고백하면 사귀게 되는 게 썸이죠\n",
      "[질문] 이제 제발 좀 잊자 / [모델 답변] 져져져져져져져져져져져져져져져져져져져져져져져져져져져져져져져져져져져져져져져져져져져져져져져져져져져져져져져져져져져져져져져져져져져져져져져져져져져져져져져져 / [실제 답변] 마음먹은대로 괜찮아지길\n",
      "[질문] 술 먹고 싶어 / [모델 답변]                                                                                  / [실제 답변] 혼자 힘들어하지 마세요\n",
      "[질문] 말도 안되는 이유로 결별 선언하는 그녀 / [모델 답변] 생생생생생생생생생생생생생생생생생생생생생생생생생생생생생생생생생생생생생생생생생생생생생생생생생생생생생생생생생생생생생생생생생생생생생생생생생생생생생생생생 / [실제 답변] 진짜 이유를 말하지 못하는 사정이 있나봐요\n",
      "[질문] 미세먼지 지수 어떻대 / [모델 답변] 이 이 이 이 이 이 이 이 이 이 이 이 이 이 이 이 이 이 이 이 이 이 이 이 이 이 이 이 이 이 이 이 이 이 이 이 이 이 이 이 이 이 이 이 이 이 이 이 이 이 이 이 이 이 이 이 이 이 이 이 이 이 이 이 이 이 이 이 이 이 이 이 이 이 이 이 이 이 이 이  / [실제 답변] 숨 쉴만 했으면 좋겠네요\n",
      "[질문] 자신만만하던게 엊그젠데 이젠 힘들어 / [모델 답변] 이런이런이런이런이런이런이런이런이런이런이런이런이런이런이런이런이런이런이런이런이런이런이런이런이런이런이런이런이런이런이런이런이런이런이런이런이런이런이런이런이런이런이런이런이런이런이런이런이런이런이런이런이런이런이런이런이런이런이런이런이런이런이런이런이런이런이런이런이런이런이런이런이런이런이런이런이런이런이런이런 / [실제 답변] 힘내지 않아도 돼요 저에게 기대세요\n"
     ]
    }
   ],
   "source": [
    "import random\n",
    "\n",
    "indexes = random.choices(range(len(questions)), k=20)\n",
    "\n",
    "# 실제 답변과 모델 답변 비교\n",
    "for i in indexes:\n",
    "    question = questions[i]\n",
    "    answer = answers[i]\n",
    "    answer_pred = sentence_generation(question)\n",
    "    print(f\"[질문] {question} / [모델 답변] {answer_pred} / [실제 답변] {answer}\")"
   ]
  },
  {
   "cell_type": "code",
   "execution_count": null,
   "id": "4397d7dc",
   "metadata": {},
   "outputs": [],
   "source": []
  }
 ],
 "metadata": {
  "kernelspec": {
   "display_name": "Python 3 (ipykernel)",
   "language": "python",
   "name": "python3"
  },
  "language_info": {
   "codemirror_mode": {
    "name": "ipython",
    "version": 3
   },
   "file_extension": ".py",
   "mimetype": "text/x-python",
   "name": "python",
   "nbconvert_exporter": "python",
   "pygments_lexer": "ipython3",
   "version": "3.9.7"
  }
 },
 "nbformat": 4,
 "nbformat_minor": 5
}
